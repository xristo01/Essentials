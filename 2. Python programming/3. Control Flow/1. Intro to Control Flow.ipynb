{
 "cells": [
  {
   "cell_type": "markdown",
   "metadata": {},
   "source": [
    "# Python Prelude 3: Introduction to Control Flow"
   ]
  },
  {
   "cell_type": "markdown",
   "metadata": {},
   "source": [
    "## Learning objectives\n",
    "- Understand the idea of control flow and basic programming.\n",
    "- Know how to use if statements.\n",
    "- Know how to use elif and else statements.\n",
    "- Understand the idea of iteration.\n",
    "- Understand indefinite iteration.\n",
    "- Know how to use while loops."
   ]
  },
  {
   "cell_type": "markdown",
   "metadata": {},
   "source": [
    "# Control Flow"
   ]
  },
  {
   "cell_type": "markdown",
   "metadata": {},
   "source": [
    "- Control Flow is the order of execution of instructions in a computer program.\n",
    "- A program is a series of instructions called statements.\n",
    "- The order in which those statements are executed can vary.\n",
    "- Control flow allows for decision making (conditional statements), branching and loops in code."
   ]
  },
  {
   "cell_type": "markdown",
   "metadata": {},
   "source": [
    "## Conditional Statements"
   ]
  },
  {
   "cell_type": "markdown",
   "metadata": {},
   "source": [
    "![If Else](images/ifelse.png)"
   ]
  },
  {
   "cell_type": "markdown",
   "metadata": {},
   "source": [
    "### If statements\n",
    "\n",
    "- An if statement is a piece of code that causes another piece of code to be executed based on the fulfillment of a condition.\n",
    "- If statements employ boolean operators to check whether something is true, and so whether or not to execute a piece of code.\n",
    "- The basic syntax for an if statement in pseudo-code is as follows:"
   ]
  },
  {
   "cell_type": "code",
   "execution_count": 1,
   "metadata": {},
   "outputs": [],
   "source": [
    "# if some_condition:\n",
    "#     do_something"
   ]
  },
  {
   "cell_type": "markdown",
   "metadata": {},
   "source": [
    "- Note the indentation: Python determines precedence based on indentation/whitespace rather than brackets, like other languages.\n",
    "- The standard practice for indentation as recommended by PEP8 guidelines is 4 spaces, but you can also use a tab.\n",
    "- However, you cannot mix spaces and tabs for indentation.\n",
    "- Jupyter Notebook - like many other IDEs - will automatically indent after a colon."
   ]
  },
  {
   "cell_type": "markdown",
   "metadata": {},
   "source": [
    "### Elif and else statements\n",
    "\n",
    "- Elif ('else if') statements add a block of code to be executed if the first condition is not fulfilled.\n",
    "- Else statements add a block of code to be executed if none of the previous conditions are fulfilled.\n",
    "- The syntax is as follows, again note the whitespace alignment:"
   ]
  },
  {
   "cell_type": "code",
   "execution_count": 5,
   "metadata": {},
   "outputs": [],
   "source": [
    "# if some_condition:\n",
    "#     do_something\n",
    "# elif some_other_condition:\n",
    "#     do_something_else\n",
    "# else:\n",
    "#     do_this"
   ]
  },
  {
   "cell_type": "markdown",
   "metadata": {},
   "source": [
    "### Examples"
   ]
  },
  {
   "cell_type": "code",
   "execution_count": 3,
   "metadata": {},
   "outputs": [
    {
     "name": "stdout",
     "output_type": "stream",
     "text": [
      "Wait, what??\n"
     ]
    }
   ],
   "source": [
    "x = input('Enter your age')\n",
    "x = int(x) # Input will return a string, you need an integer\n",
    "if x >= 21:\n",
    "    print(\"You are allowed to drink in the US\")\n",
    "elif x >= 18:\n",
    "    print(\"You are allowed to drink, but not in the US\")\n",
    "elif x < 0:\n",
    "    print('Wait, what??')\n",
    "else:\n",
    "    print('You can have a Fanta')"
   ]
  },
  {
   "cell_type": "code",
   "execution_count": 6,
   "metadata": {},
   "outputs": [
    {
     "name": "stdout",
     "output_type": "stream",
     "text": [
      "a is equal to 6\n",
      "b is equal to 9\n",
      "A is smaller than B\n"
     ]
    }
   ],
   "source": [
    "a = int(input('Enter a number for A'))\n",
    "b = int(input('Enter a number for B'))\n",
    "\n",
    "print(f'A is equal to {a}')\n",
    "print(f'B  is equal to {b}')\n",
    "if a > b:\n",
    "    print(\"A is larger than B\")\n",
    "elif a < b:\n",
    "    print (\"A is smaller than B\")\n",
    "else:\n",
    "    print (\"A is equal to B\")"
   ]
  },
  {
   "cell_type": "code",
   "execution_count": null,
   "metadata": {},
   "outputs": [],
   "source": [
    " if a > b: print(\"a is greater than b\") "
   ]
  },
  {
   "cell_type": "code",
   "execution_count": null,
   "metadata": {},
   "outputs": [],
   "source": [
    "print(\"A\") if a > b else print(\"B\") "
   ]
  },
  {
   "cell_type": "code",
   "execution_count": 8,
   "metadata": {},
   "outputs": [
    {
     "name": "stdout",
     "output_type": "stream",
     "text": [
      "Both conditions are True\n"
     ]
    }
   ],
   "source": [
    "a = int(input('Enter a number for A'))\n",
    "b = int(input('Enter a number for B'))\n",
    "c = int(input('Enter a number for C'))\n",
    "\n",
    "if a > b and b > c:\n",
    "  print(\"Both conditions are True\")"
   ]
  },
  {
   "cell_type": "markdown",
   "metadata": {},
   "source": [
    "## Loops"
   ]
  },
  {
   "cell_type": "markdown",
   "metadata": {},
   "source": [
    "### Iteration\n",
    "\n",
    "- Iterable: data structure capable of returning its elements one at a time e.g. list, tuple, string, dictionary(d.keys() returns a list).\n",
    "- Iteration: performing the same operation repeatedly (often over each element of an iterable).\n",
    "- e.g. multiplying each element in a list by 2, or taking index 0 of each item in a list of strings."
   ]
  },
  {
   "cell_type": "markdown",
   "metadata": {},
   "source": [
    "### While Loops\n",
    "- While loops perform the same operation WHILE some boolean condition is fulfilled.\n",
    "- This is called indefinite iteration: where the number of iterations is unknown.\n",
    "- We will not cover while loops in great detail as they are not useful to data science."
   ]
  },
  {
   "cell_type": "markdown",
   "metadata": {},
   "source": [
    "### Basic Syntax"
   ]
  },
  {
   "cell_type": "code",
   "execution_count": 2,
   "metadata": {},
   "outputs": [],
   "source": [
    "# while some_condition:\n",
    "#     do_something\n",
    "# else:\n",
    "#     do_something_else"
   ]
  },
  {
   "cell_type": "markdown",
   "metadata": {},
   "source": [
    "We can break the syntax down as follows:\n",
    "- The while keyword: this is the key to the statement, it indicates a while loop and refers to some_condition.\n",
    "- The condition: the while keyword checks whether this condition is True, and executes the dependent block of code if it is.\n",
    "- do_something: this is the block of code to execute if the condition is True.\n",
    "- else statement: this is the block of code to execute if the condition is False.\n",
    "- __While__ the condition is __True__, the block of code will be executed, and the program will then __loop back__ to the while statement, recheck the condition, and execute again.\n",
    "- This continues __INDEFINITELY__ until the condition is untrue: hence indefinite iteration.\n",
    "- One of the most common mistakes is creating an __infinite loop__, where the condition __does not become untrue__, and hence the code continues to execute, taking up increasing memory until your computer crashes.\n",
    "- Hence we must include some way of changing the condition inside the loop, either in the do_something statement or using a break keyword (mentioned below)."
   ]
  },
  {
   "cell_type": "markdown",
   "metadata": {},
   "source": [
    "### Example"
   ]
  },
  {
   "cell_type": "code",
   "execution_count": 17,
   "metadata": {},
   "outputs": [
    {
     "name": "stdout",
     "output_type": "stream",
     "text": [
      "The current value of x is 0\n",
      "The current value of x is 1\n",
      "The current value of x is 2\n",
      "The current value of x is 3\n",
      "The current value of x is 4\n",
      "x not less than 5\n"
     ]
    }
   ],
   "source": [
    "x = 0\n",
    "\n",
    "while x < 5:\n",
    "    print(f\"The current value of x is {x}\")\n",
    "    x += 1\n",
    "else:\n",
    "    print(\"x not less than 5\")"
   ]
  },
  {
   "cell_type": "code",
   "execution_count": null,
   "metadata": {},
   "outputs": [],
   "source": [
    "x = 0\n",
    "\n",
    "while x < 5:\n",
    "    print(f\"The current value of x is {x}\")\n",
    "    x += 1\n",
    "else:\n",
    "    print(\"x not less than 5\")"
   ]
  },
  {
   "cell_type": "markdown",
   "metadata": {},
   "source": [
    "### Break Keyword"
   ]
  },
  {
   "cell_type": "markdown",
   "metadata": {},
   "source": [
    "- We can use break to break out of an enclosing loop: usually it is used with an if statement in order to break the loop if some condition is fulfilled.\n",
    "- If the break keyword is run, the code will not loop back to the top, it will stop executing there and move onto the next statement.\n",
    "- We can see this here because 2 is not printed: the print statement is indented, and so is a later part of the loop."
   ]
  },
  {
   "cell_type": "code",
   "execution_count": 18,
   "metadata": {},
   "outputs": [
    {
     "name": "stdout",
     "output_type": "stream",
     "text": [
      "0\n",
      "1\n"
     ]
    }
   ],
   "source": [
    "x = 0\n",
    "while x < 5:\n",
    "    if x == 2:\n",
    "        break\n",
    "    print(x)\n",
    "    x += 1"
   ]
  },
  {
   "cell_type": "markdown",
   "metadata": {},
   "source": [
    "## Control Flow Questions"
   ]
  },
  {
   "cell_type": "markdown",
   "metadata": {},
   "source": [
    "## Summary\n",
    "We now understand:\n",
    "\n",
    "- The basics of control flow and the order in which code is executed.\n",
    "- The idea of iteration and indefinite iteration in particular.\n",
    "\n",
    "We now know:\n",
    "\n",
    "- How to employ conditional statements to manipulate control flow in code.\n",
    "- How to use a while loop.\n",
    "\n",
    "\n",
    "## Further reading\n",
    "- Control flow: https://docs.python.org/3.8/tutorial/controlflow.html?highlight=control%20flow\n",
    "- While statements: https://docs.python.org/3.8/reference/compound_stmts.html#while"
   ]
  },
  {
   "cell_type": "code",
   "execution_count": null,
   "metadata": {},
   "outputs": [],
   "source": []
  }
 ],
 "metadata": {
  "interpreter": {
   "hash": "ad8bebc098a042dc0df4e42fc2ecc8fff0bd7b8741641ce29007c29766dadbe0"
  },
  "kernelspec": {
   "display_name": "Python 3.9.1 64-bit ('base': conda)",
   "name": "python3"
  },
  "language_info": {
   "codemirror_mode": {
    "name": "ipython",
    "version": 3
   },
   "file_extension": ".py",
   "mimetype": "text/x-python",
   "name": "python",
   "nbconvert_exporter": "python",
   "pygments_lexer": "ipython3",
   "version": "3.9.1"
  }
 },
 "nbformat": 4,
 "nbformat_minor": 2
}