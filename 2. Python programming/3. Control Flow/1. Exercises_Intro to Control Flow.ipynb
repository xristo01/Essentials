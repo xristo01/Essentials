{
 "cells": [
  {
   "cell_type": "markdown",
   "metadata": {},
   "source": [
    "# 2. Exercises for Intro to Control Flow"
   ]
  },
  {
   "cell_type": "markdown",
   "metadata": {},
   "source": [
    "### Question 1"
   ]
  },
  {
   "cell_type": "markdown",
   "metadata": {},
   "source": [
    "Given 2 parameters, height and weight, calculate the parameter BMI (Google the formula) (For simplicity, work in metres and kg).\n",
    "<br><br>\n",
    "Using the parameter BMI, write a series of if statements that print the following outcomes:\n",
    "<br>\n",
    "- below 18.5 –-> 'Your BMI is x. You're in the underweight range.'\n",
    "- between 18.5 and 24.9 –-> 'Your BMI is x. You're in the healthy weight range.'\n",
    "- between 25 and 29.9 –-> 'Your BMI is x. You're in the overweight range.'\n",
    "- between 30 and 39.9 –-> 'Your BMI is x. You're in the obese range.'\n",
    "<br>\n",
    "\n",
    "Test your code with the following cases by substituting them in for weight and height values in your code:<br>\n",
    "Height 1.83m, Weight 85kg<br>\n",
    "Height 1.55m, Weight 61kg<br>\n",
    "Height 2.09m, Weight 135kg<br>\n",
    "Height 1.71m, Weight 70kg<br>\n",
    "Height 1.71m, Weight 95kg<br>\n",
    "Height 1.71m, Weight 55kg\n",
    "<br><br>\n",
    "(Once again, this is a tedious process that will show the obvious value of for loops and functions when we cover them)"
   ]
  },
  {
   "cell_type": "code",
   "execution_count": null,
   "metadata": {},
   "outputs": [],
   "source": [
    "weight = #\n",
    "height = #\n",
    "\n",
    "# CODE HERE"
   ]
  },
  {
   "cell_type": "markdown",
   "metadata": {},
   "source": [
    "### Question 2"
   ]
  },
  {
   "cell_type": "markdown",
   "metadata": {},
   "source": [
    "Given 2 parameters, altitude(ft) and airspeed(knots), write a program that categorises entries into 'safe flying' and 'unsafe flying' based on the following criteria:\n",
    "\n",
    "- An altitude of below 100ft or above 50000ft is considered unsafe flying.\n",
    "- An airspeed of 60 knots and below or 500 knots and above is considered unsafe flying.\n",
    "- Altitudes and airspeeds outside these ranges are considered safe flying.\n",
    "\n",
    "CLUE: You will have to figure out the syntax for using __and__/__or__ keywords in if statements, __this may be tough but stick at it__.\n",
    "\n",
    "Try to write this as cleanly as possible and test your code with the following by substituting in again:\n",
    "- altitude 25000ft, airspeed 300kn\n",
    "- altitude 50001ft, airspeed 250kn\n",
    "- altitude 90ft, airspeed 125kn\n",
    "- altitude 500ft, airspeed 45kn\n",
    "- altitude 1000ft, airspeed 600kn\n",
    "- altitude 65000ft, airspeed 700kn"
   ]
  },
  {
   "cell_type": "code",
   "execution_count": null,
   "metadata": {},
   "outputs": [],
   "source": [
    "altitude = #\n",
    "airspeed = #\n",
    "\n",
    "# CODE HERE"
   ]
  }
 ],
 "metadata": {
  "interpreter": {
   "hash": "aee8b7b246df8f9039afb4144a1f6fd8d2ca17a180786b69acc140d282b71a49"
  },
  "kernelspec": {
   "display_name": "Python 3.9.6 64-bit",
   "name": "python3"
  },
  "language_info": {
   "name": "python",
   "version": ""
  },
  "orig_nbformat": 4
 },
 "nbformat": 4,
 "nbformat_minor": 2
}