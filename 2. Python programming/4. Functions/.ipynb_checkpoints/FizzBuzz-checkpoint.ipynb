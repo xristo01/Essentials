{
 "cells": [
  {
   "cell_type": "code",
   "execution_count": 28,
   "id": "109269ad",
   "metadata": {
    "ExecuteTime": {
     "end_time": "2021-08-03T20:39:20.058954Z",
     "start_time": "2021-08-03T20:39:20.049102Z"
    }
   },
   "outputs": [
    {
     "name": "stdout",
     "output_type": "stream",
     "text": [
      "[5, 10, 20, 35]\n",
      "[]\n",
      "[15, 30, 45]\n"
     ]
    },
    {
     "data": {
      "text/plain": [
       "([5, 10, 20, 35], [], [15, 30, 45])"
      ]
     },
     "execution_count": 28,
     "metadata": {},
     "output_type": "execute_result"
    }
   ],
   "source": [
    "import math\n",
    "nums = [1, 2, 3, 4, 5, 6, 7, 8, 9, 10, 13, 15, 17, 20, 30, 33, 35, 45, 48]\n",
    "\n",
    "def fizz_buzz(params, params2, params3=None):\n",
    "    fizz_list = []\n",
    "    buzz_list = []\n",
    "    fizz_buzz = []\n",
    "    \n",
    "    if params3 is None:\n",
    "        a = params2 * 7\n",
    "        sqrt(a)\n",
    "        \n",
    "    for i in params:\n",
    "        if i % params2 == 0:\n",
    "            fizz_buzz.append(i)\n",
    "                                 \n",
    "        elif i % 5 == 0:\n",
    "            fizz_list.append(i)\n",
    "            \n",
    "        elif i % 15 == 0:\n",
    "            buzz_list.append(i)\n",
    "        \n",
    "    print(fizz_list)\n",
    "    print(buzz_list)\n",
    "    print(fizz_buzz)\n",
    "    \n",
    "    return fizz_list, buzz_list, fizz_buzz\n",
    "\n",
    "fizz_buzz(nums, 15)"
   ]
  },
  {
   "cell_type": "code",
   "execution_count": null,
   "id": "00acaaae",
   "metadata": {},
   "outputs": [],
   "source": []
  },
  {
   "cell_type": "code",
   "execution_count": null,
   "id": "0d6e3b7f",
   "metadata": {},
   "outputs": [],
   "source": []
  }
 ],
 "metadata": {
  "kernelspec": {
   "display_name": "Python [conda env:AiCore] *",
   "language": "python",
   "name": "conda-env-AiCore-py"
  },
  "language_info": {
   "codemirror_mode": {
    "name": "ipython",
    "version": 3
   },
   "file_extension": ".py",
   "mimetype": "text/x-python",
   "name": "python",
   "nbconvert_exporter": "python",
   "pygments_lexer": "ipython3",
   "version": "3.9.5"
  }
 },
 "nbformat": 4,
 "nbformat_minor": 5
}
