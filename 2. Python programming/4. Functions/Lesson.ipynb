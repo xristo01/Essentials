{
 "cells": [
  {
   "cell_type": "markdown",
   "metadata": {},
   "source": [
    "# 4: Functions"
   ]
  },
  {
   "cell_type": "markdown",
   "metadata": {},
   "source": [
    "## Learning objectives\n",
    "- Understand the nature and usage of functions.\n",
    "- Know the syntax of defining a function.\n",
    "- Understand the basic difference between functions and methods.\n",
    "- Understand arguments and outputs.\n",
    "- Know how to use the help() function.\n",
    "- Understand the idea of scope.\n",
    "- Understand the idea of recursion."
   ]
  },
  {
   "cell_type": "markdown",
   "metadata": {},
   "source": [
    "# Functions"
   ]
  },
  {
   "cell_type": "markdown",
   "metadata": {},
   "source": [
    "## Defining Functions"
   ]
  },
  {
   "cell_type": "markdown",
   "metadata": {},
   "source": [
    "- We have already seen for loops as a way of obeying the DRY (Don't Repeat Yourself) principle.\n",
    "- The next major step is functions.\n",
    "- Functions provide a way to program a block of code that only runs when called.\n",
    "- This means that we can avoid having to redefine the same operations when doing them repeatedly..\n",
    "<br><br>\n",
    "- A function takes in parameters, and can return an output.\n",
    "- The value passed in as a parameter is called an **argument**.\n",
    "- A function associated with an object is called a method.\n",
    "- An instance of a function is called a function call.\n",
    "- The basic syntax for a function is as follows:"
   ]
  },
  {
   "cell_type": "code",
   "execution_count": null,
   "metadata": {},
   "outputs": [],
   "source": [
    "# function definition\n",
    "def function_name (param1, param2 = 1):\n",
    "    '''\n",
    "    DOCSTRING: explains function\n",
    "    INPUT: Name (str)\n",
    "    OUTPUT: Hello Name (str)\n",
    "    '''\n",
    "    # add code to run\n",
    "    return(\"Hello \" + param1)"
   ]
  },
  {
   "cell_type": "code",
   "execution_count": null,
   "metadata": {},
   "outputs": [],
   "source": [
    "# function call\n",
    "function_name(\"Zain\")"
   ]
  },
  {
   "cell_type": "code",
   "execution_count": null,
   "metadata": {},
   "outputs": [],
   "source": [
    "function_name"
   ]
  },
  {
   "cell_type": "markdown",
   "metadata": {},
   "source": [
    "- __def__ keyword shows python you're about to define a function.\n",
    "- __Function name__ comes next, name all lower case, separated by underscores, do not use builtin keywords: see PEP8 for detail.\n",
    "- __Parameters__ defined in brackets.\n",
    "- __Default arguments__ are arguments that have a default value to revert to if no other value is specified. Here, param2 = 1 means that param2 will be 1 unless it is specified to be something else in the function call.\n",
    "- __Colon__ indicates end of definition line, next line will indent.\n",
    "- __Docstrings__ explain what the function is doing: read PEP257 or google __*'python docstrings'*__ for guidelines.\n",
    "- https://www.python.org/dev/peps/pep-0257/\n",
    "- __return__ keyword indicates output of function.\n",
    "<br><br>\n",
    "- When performing a function call, we write the name of the function followed by parentheses containing the arguments to pass in.\n",
    "- __COMMON ERROR: if you call a function without parentheses it will not run!!!__\n",
    "- It will simply show information on the function including the module it belongs to, its name, and the parameters it takes."
   ]
  },
  {
   "cell_type": "markdown",
   "metadata": {},
   "source": [
    "## Using help()"
   ]
  },
  {
   "cell_type": "markdown",
   "metadata": {},
   "source": [
    "- We can use the help() function to find documentation if we don't know what a function does.\n",
    "- Or press Shift + Tab.\n",
    "- For more detailed documentation, it is better to find and use the full documentation on the function (google it!)."
   ]
  },
  {
   "cell_type": "code",
   "execution_count": null,
   "metadata": {},
   "outputs": [],
   "source": [
    "help(function_name)"
   ]
  },
  {
   "cell_type": "code",
   "execution_count": null,
   "metadata": {},
   "outputs": [],
   "source": [
    "help(print)"
   ]
  },
  {
   "cell_type": "markdown",
   "metadata": {},
   "source": [
    "## Variable Scope"
   ]
  },
  {
   "cell_type": "markdown",
   "metadata": {},
   "source": [
    "- Variable scope refers to which parts of a program can reference a variable.\n",
    "- There are 2 kinds of scope: local and global.\n",
    "- A variable defined inside a function can only be referenced inside that function: local scope.\n",
    "- A variable defined outside a function (in the general script) can be referenced inside the function, but cannot be modified from inside the function (UnboundLocalError).\n",
    "- To change it inside the function, it must be redefined inside the function."
   ]
  },
  {
   "cell_type": "code",
   "execution_count": 10,
   "metadata": {},
   "outputs": [
    {
     "name": "stdout",
     "output_type": "stream",
     "text": [
      "12\n",
      "0\n"
     ]
    }
   ],
   "source": [
    "counter = 0 # Global scope\n",
    "\n",
    "def add_to_counter():\n",
    "    counter = 12\n",
    "    output = counter # Local scope\n",
    "    return output # When calling for the function, the returned value will correspond to what is included this statement\n",
    "\n",
    "x = add_to_counter()\n",
    "print(x) \n",
    "print(counter) # The local scope didn't change the global scope"
   ]
  },
  {
   "cell_type": "code",
   "execution_count": 11,
   "metadata": {},
   "outputs": [
    {
     "name": "stdout",
     "output_type": "stream",
     "text": [
      "12\n",
      "0\n"
     ]
    }
   ],
   "source": [
    "counter = 0 # Global scope\n",
    "\n",
    "def add_to_counter():\n",
    "    counter = 12 # Local scope\n",
    "    return counter # When calling for the function, the returned value will correspond to what is included this statement\n",
    "\n",
    "x = add_to_counter()\n",
    "print(x) \n",
    "print(counter) # The local scope didn't change the global scope"
   ]
  },
  {
   "cell_type": "markdown",
   "metadata": {},
   "source": [
    "Even though global scope affects the local scope, be careful, because that doesn't mean that the global variable is actually inside the function. In this example, the global count can affect the value of the local count, but if we try to use it before defining it in the function, it won't work. In this case, it happens because it doesn't know whether it should use the local or global scope"
   ]
  },
  {
   "cell_type": "code",
   "execution_count": 19,
   "metadata": {},
   "outputs": [
    {
     "ename": "UnboundLocalError",
     "evalue": "local variable 'counter' referenced before assignment",
     "output_type": "error",
     "traceback": [
      "\u001b[0;31m---------------------------------------------------------------------------\u001b[0m",
      "\u001b[0;31mUnboundLocalError\u001b[0m                         Traceback (most recent call last)",
      "\u001b[0;32m<ipython-input-19-80e4a6fcfdf9>\u001b[0m in \u001b[0;36m<module>\u001b[0;34m\u001b[0m\n\u001b[1;32m      5\u001b[0m     \u001b[0;32mreturn\u001b[0m \u001b[0mcounter\u001b[0m\u001b[0;34m\u001b[0m\u001b[0;34m\u001b[0m\u001b[0m\n\u001b[1;32m      6\u001b[0m \u001b[0;34m\u001b[0m\u001b[0m\n\u001b[0;32m----> 7\u001b[0;31m \u001b[0mcounter\u001b[0m \u001b[0;34m=\u001b[0m \u001b[0madd_to_counter\u001b[0m\u001b[0;34m(\u001b[0m\u001b[0;34m)\u001b[0m\u001b[0;34m\u001b[0m\u001b[0;34m\u001b[0m\u001b[0m\n\u001b[0m\u001b[1;32m      8\u001b[0m \u001b[0;34m\u001b[0m\u001b[0m\n\u001b[1;32m      9\u001b[0m \u001b[0mprint\u001b[0m\u001b[0;34m(\u001b[0m\u001b[0mcounter\u001b[0m\u001b[0;34m)\u001b[0m\u001b[0;34m\u001b[0m\u001b[0;34m\u001b[0m\u001b[0m\n",
      "\u001b[0;32m<ipython-input-19-80e4a6fcfdf9>\u001b[0m in \u001b[0;36madd_to_counter\u001b[0;34m()\u001b[0m\n\u001b[1;32m      2\u001b[0m \u001b[0;34m\u001b[0m\u001b[0m\n\u001b[1;32m      3\u001b[0m \u001b[0;32mdef\u001b[0m \u001b[0madd_to_counter\u001b[0m\u001b[0;34m(\u001b[0m\u001b[0;34m)\u001b[0m\u001b[0;34m:\u001b[0m\u001b[0;34m\u001b[0m\u001b[0;34m\u001b[0m\u001b[0m\n\u001b[0;32m----> 4\u001b[0;31m     \u001b[0mcounter\u001b[0m \u001b[0;34m=\u001b[0m \u001b[0mcounter\u001b[0m \u001b[0;34m+\u001b[0m \u001b[0;36m1\u001b[0m\u001b[0;34m\u001b[0m\u001b[0;34m\u001b[0m\u001b[0m\n\u001b[0m\u001b[1;32m      5\u001b[0m     \u001b[0;32mreturn\u001b[0m \u001b[0mcounter\u001b[0m\u001b[0;34m\u001b[0m\u001b[0;34m\u001b[0m\u001b[0m\n\u001b[1;32m      6\u001b[0m \u001b[0;34m\u001b[0m\u001b[0m\n",
      "\u001b[0;31mUnboundLocalError\u001b[0m: local variable 'counter' referenced before assignment"
     ]
    }
   ],
   "source": [
    "counter = 0\n",
    "\n",
    "def add_to_counter():\n",
    "    counter = counter + 1\n",
    "    return counter\n",
    "\n",
    "counter = add_to_counter()\n",
    "\n",
    "print(counter)"
   ]
  },
  {
   "cell_type": "markdown",
   "metadata": {},
   "source": [
    "In this case, even we haven't defined it, Python knows the value of counter"
   ]
  },
  {
   "cell_type": "code",
   "execution_count": 22,
   "metadata": {},
   "outputs": [
    {
     "name": "stdout",
     "output_type": "stream",
     "text": [
      "1\n"
     ]
    }
   ],
   "source": [
    "counter = 0\n",
    "\n",
    "def add_to_counter():\n",
    "    x = counter + 1\n",
    "    return x\n",
    "\n",
    "counter = add_to_counter()\n",
    "\n",
    "print(counter)"
   ]
  },
  {
   "cell_type": "markdown",
   "metadata": {},
   "source": [
    "If we want to change the global scope from within a function, we can use the global keyword."
   ]
  },
  {
   "cell_type": "code",
   "execution_count": 23,
   "metadata": {},
   "outputs": [
    {
     "name": "stdout",
     "output_type": "stream",
     "text": [
      "12\n"
     ]
    }
   ],
   "source": [
    "counter = 0\n",
    "\n",
    "def add_to_counter():\n",
    "    global counter\n",
    "    counter += 12 # add 12 to counter\n",
    "\n",
    "add_to_counter()\n",
    "print(counter)"
   ]
  },
  {
   "cell_type": "code",
   "execution_count": 3,
   "metadata": {},
   "outputs": [],
   "source": [
    "x = 1, 2, 3"
   ]
  },
  {
   "cell_type": "code",
   "execution_count": 4,
   "metadata": {},
   "outputs": [
    {
     "data": {
      "text/plain": [
       "tuple"
      ]
     },
     "execution_count": 4,
     "metadata": {},
     "output_type": "execute_result"
    }
   ],
   "source": [
    "type(x)"
   ]
  },
  {
   "cell_type": "markdown",
   "metadata": {},
   "source": [
    "Functions can accepts an indefinite number of arguments. However, what if the number of arguments can vary? We can use * and ** as input for a function"
   ]
  },
  {
   "cell_type": "code",
   "execution_count": 5,
   "metadata": {},
   "outputs": [
    {
     "name": "stdout",
     "output_type": "stream",
     "text": [
      "I am being printed\n",
      "\n"
     ]
    }
   ],
   "source": [
    "print('I am being printed', end='\\n\\n')"
   ]
  },
  {
   "cell_type": "code",
   "execution_count": 6,
   "metadata": {},
   "outputs": [],
   "source": [
    "def say_hi(name):\n",
    "    print(f'Hello {name}')"
   ]
  },
  {
   "cell_type": "code",
   "execution_count": 9,
   "metadata": {},
   "outputs": [
    {
     "ename": "TypeError",
     "evalue": "say_hi() got an unexpected keyword argument 'na'",
     "output_type": "error",
     "traceback": [
      "\u001b[0;31m---------------------------------------------------------------------------\u001b[0m",
      "\u001b[0;31mTypeError\u001b[0m                                 Traceback (most recent call last)",
      "\u001b[0;32m<ipython-input-9-17aad9baa926>\u001b[0m in \u001b[0;36m<module>\u001b[0;34m\u001b[0m\n\u001b[0;32m----> 1\u001b[0;31m \u001b[0msay_hi\u001b[0m\u001b[0;34m(\u001b[0m\u001b[0mna\u001b[0m\u001b[0;34m=\u001b[0m\u001b[0;34m'Ivan'\u001b[0m\u001b[0;34m)\u001b[0m\u001b[0;34m\u001b[0m\u001b[0;34m\u001b[0m\u001b[0m\n\u001b[0m",
      "\u001b[0;31mTypeError\u001b[0m: say_hi() got an unexpected keyword argument 'na'"
     ]
    }
   ],
   "source": [
    "say_hi(name='Ivan')"
   ]
  },
  {
   "cell_type": "code",
   "execution_count": 3,
   "metadata": {},
   "outputs": [],
   "source": [
    "my_tuple = 1, 2"
   ]
  },
  {
   "cell_type": "code",
   "execution_count": 4,
   "metadata": {},
   "outputs": [
    {
     "data": {
      "text/plain": [
       "tuple"
      ]
     },
     "execution_count": 4,
     "metadata": {},
     "output_type": "execute_result"
    }
   ],
   "source": [
    "type(my_tuple)"
   ]
  },
  {
   "cell_type": "code",
   "execution_count": null,
   "metadata": {},
   "outputs": [],
   "source": [
    "my_dict = {'a': 4, 'b': 5}"
   ]
  },
  {
   "cell_type": "code",
   "execution_count": 1,
   "metadata": {},
   "outputs": [
    {
     "name": "stdout",
     "output_type": "stream",
     "text": [
      "(1, 2, 3, 5, 6, 2, 1)\n",
      "{'a': 4, 'b': 5, 'c': 6}\n"
     ]
    }
   ],
   "source": [
    "def fun_dummy(*args, **kwargs): # args = arguments, kwargs = key word arguments\n",
    "    print(args) # args is now a tuple\n",
    "    print(kwargs) # kwargs now is a dictionary\n",
    "\n",
    "fun_dummy(1, 2, 3, 5, 6, 2, 1, a=4, b=5, c=6)\n",
    "# anything without any a key word argument (by key word I mean a, b, c) will be a tuple in the function\n",
    "# Anything with a key word argument will be included in a dictionary in the function"
   ]
  },
  {
   "cell_type": "markdown",
   "metadata": {},
   "source": [
    "For example, let's try to give a undefined number of arguments to a function to take the sum of them:"
   ]
  },
  {
   "cell_type": "code",
   "execution_count": 5,
   "metadata": {},
   "outputs": [
    {
     "name": "stdout",
     "output_type": "stream",
     "text": [
      "args is a tuple (1, 42, 4.2)\n",
      "47.2\n",
      "args is a tuple (1, 1, 1, 1, 1, 1, 1, 1, 1, 1, 1, 1, 1, 1, 1, 1)\n",
      "16\n"
     ]
    }
   ],
   "source": [
    "def sum_args(*args):\n",
    "    print(f'args is a tuple {args}')\n",
    "    return sum(args)\n",
    "\n",
    "\n",
    "print(sum_args(1, 42, 4.2))  # You can add as many arguments as you want\n",
    "print(sum_args(1, 1, 1, 1, 1, 1, 1, 1, 1, 1, 1, 1, 1, 1, 1, 1))\n"
   ]
  },
  {
   "cell_type": "markdown",
   "metadata": {},
   "source": [
    "When passing **kwargs, we can use kwargs as a dictionary, so we can iterate though it as we learnt"
   ]
  },
  {
   "cell_type": "code",
   "execution_count": 13,
   "metadata": {},
   "outputs": [],
   "source": [
    "new_dict = {'a': 5, 'b': 3, 'c': 6}"
   ]
  },
  {
   "cell_type": "code",
   "execution_count": 24,
   "metadata": {},
   "outputs": [],
   "source": [
    "x, y = (1, 2)"
   ]
  },
  {
   "cell_type": "code",
   "execution_count": 21,
   "metadata": {},
   "outputs": [
    {
     "data": {
      "text/plain": [
       "dict_items([('a', 5), ('b', 3), ('c', 6)])"
      ]
     },
     "execution_count": 21,
     "metadata": {},
     "output_type": "execute_result"
    }
   ],
   "source": [
    "new_dict.items()"
   ]
  },
  {
   "cell_type": "code",
   "execution_count": 6,
   "metadata": {},
   "outputs": [
    {
     "name": "stdout",
     "output_type": "stream",
     "text": [
      "kwargs is a dictionary: {'a': 5, 'b': 3, 'c': 6}\n",
      "Key is a and its value is 5\n",
      "Key is b and its value is 3\n",
      "Key is c and its value is 6\n"
     ]
    }
   ],
   "source": [
    "def keys_and_values(**kwargs):\n",
    "    print(f'kwargs is a dictionary: {kwargs}')\n",
    "    for key, value in kwargs.items():\n",
    "        print(f'Key is {key} and its value is {value}')\n",
    "\n",
    "keys_and_values(a=5, b=3, c=6)"
   ]
  },
  {
   "cell_type": "markdown",
   "metadata": {},
   "source": [
    "If we try to give a regular argument to a function that only accepts keyword arguments it will throw an error"
   ]
  },
  {
   "cell_type": "code",
   "execution_count": null,
   "metadata": {},
   "outputs": [],
   "source": [
    "def addition(x, y):\n",
    "    print(x + y)\n",
    "\n",
    "addition(1, 5)"
   ]
  },
  {
   "cell_type": "code",
   "execution_count": 11,
   "metadata": {},
   "outputs": [
    {
     "name": "stdout",
     "output_type": "stream",
     "text": [
      "kwargs is a dictionary: {'a': 5, 'b': 3, 'c': 6}\n",
      "Key is a and its value is 5\n",
      "Key is b and its value is 3\n",
      "Key is c and its value is 6\n"
     ]
    }
   ],
   "source": [
    "def keys_and_values(*args, **kwargs):\n",
    "    print(f'kwargs is a dictionary: {kwargs}')\n",
    "    for key, value in kwargs.items():\n",
    "        print(f'Key is {key} and its value is {value}')\n",
    "\n",
    "keys_and_values(5, a=5, b=3, c=6)"
   ]
  },
  {
   "cell_type": "markdown",
   "metadata": {},
   "source": [
    "And the other way arounf also throws an error\n"
   ]
  },
  {
   "cell_type": "code",
   "execution_count": 12,
   "metadata": {},
   "outputs": [
    {
     "ename": "TypeError",
     "evalue": "sum_args() got an unexpected keyword argument 'c'",
     "output_type": "error",
     "traceback": [
      "\u001b[0;31m---------------------------------------------------------------------------\u001b[0m",
      "\u001b[0;31mTypeError\u001b[0m                                 Traceback (most recent call last)",
      "\u001b[0;32m<ipython-input-12-9dd086bacca5>\u001b[0m in \u001b[0;36m<module>\u001b[0;34m\u001b[0m\n\u001b[1;32m      3\u001b[0m     \u001b[0;32mreturn\u001b[0m \u001b[0msum\u001b[0m\u001b[0;34m(\u001b[0m\u001b[0margs\u001b[0m\u001b[0;34m)\u001b[0m\u001b[0;34m\u001b[0m\u001b[0;34m\u001b[0m\u001b[0m\n\u001b[1;32m      4\u001b[0m \u001b[0;34m\u001b[0m\u001b[0m\n\u001b[0;32m----> 5\u001b[0;31m \u001b[0mx\u001b[0m \u001b[0;34m=\u001b[0m \u001b[0msum_args\u001b[0m\u001b[0;34m(\u001b[0m\u001b[0mc\u001b[0m\u001b[0;34m=\u001b[0m\u001b[0;36m1\u001b[0m\u001b[0;34m,\u001b[0m \u001b[0md\u001b[0m\u001b[0;34m=\u001b[0m\u001b[0;36m2\u001b[0m\u001b[0;34m)\u001b[0m\u001b[0;34m\u001b[0m\u001b[0;34m\u001b[0m\u001b[0m\n\u001b[0m",
      "\u001b[0;31mTypeError\u001b[0m: sum_args() got an unexpected keyword argument 'c'"
     ]
    }
   ],
   "source": [
    "def sum_args(*args):\n",
    "    print(f'args is a tuple {args}')\n",
    "    return sum(args)\n",
    "\n",
    "x = sum_args(c=1, d=2)"
   ]
  },
  {
   "cell_type": "markdown",
   "metadata": {},
   "source": [
    "When you give positional arguments, they have to come first, and after that, you can start giving keyword arguments\n"
   ]
  },
  {
   "cell_type": "code",
   "execution_count": 15,
   "metadata": {},
   "outputs": [
    {
     "ename": "SyntaxError",
     "evalue": "keyword argument repeated: e (<ipython-input-15-3f6b5539522f>, line 6)",
     "output_type": "error",
     "traceback": [
      "\u001b[0;36m  File \u001b[0;32m\"<ipython-input-15-3f6b5539522f>\"\u001b[0;36m, line \u001b[0;32m6\u001b[0m\n\u001b[0;31m    fun_dummy(1, 2, e=4, d=4, c=6, e=5)\u001b[0m\n\u001b[0m                                   ^\u001b[0m\n\u001b[0;31mSyntaxError\u001b[0m\u001b[0;31m:\u001b[0m keyword argument repeated: e\n"
     ]
    }
   ],
   "source": [
    "def fun_dummy(*args, **kwargs):  # args = arguments, kwargs = key word arguments\n",
    "    print(args)  # args is now a tuple\n",
    "    print(kwargs)  # kwargs now is a dictionary\n",
    "\n",
    "\n",
    "fun_dummy(1, 2, e=4, d=4, c=6, e=5)\n"
   ]
  },
  {
   "cell_type": "markdown",
   "metadata": {},
   "source": [
    "## Recursion"
   ]
  },
  {
   "cell_type": "markdown",
   "metadata": {},
   "source": [
    "- A recursive function is a function that calls itself within its definition.\n",
    "- This can be hard to get your head around at first, but think of it as a breaking a big problem down into doing a small problem many times over.\n",
    "- This means that a complex problem can be made increasingly simpler by repeatedly doing a simpler and simpler and simpler form of the same problem with each repetition.\n",
    "- However, we must provide a 'simplest form' of the function where the function stops, otherwise it will repeat forever and throw an error.\n",
    "- We call this 'simplest form' a base case.\n",
    "- This is best illustrated with an example:"
   ]
  },
  {
   "cell_type": "code",
   "execution_count": null,
   "metadata": {},
   "outputs": [],
   "source": [
    "# Function that takes in as input the starting number to countdown from\n",
    "def countdown(n):\n",
    "    \n",
    "    # base case: this is where the function will eventually stop\n",
    "    if n == 0:\n",
    "        print(0)\n",
    "        \n",
    "    # here we reduce the problem into a simpler version\n",
    "    else:\n",
    "        \n",
    "        # we print the countdown number\n",
    "        print(n)\n",
    "        \n",
    "        # we repeat the function with the next smallest number\n",
    "        countdown(n-1)\n",
    "        \n",
    "\n",
    "countdown(5)"
   ]
  },
  {
   "cell_type": "markdown",
   "metadata": {},
   "source": [
    "## Exercise 4"
   ]
  },
  {
   "cell_type": "markdown",
   "metadata": {},
   "source": [
    "Define a recursive function called num_fact that returns the factorial of a given number."
   ]
  },
  {
   "cell_type": "code",
   "execution_count": null,
   "metadata": {},
   "outputs": [],
   "source": [
    "# CODE HERE"
   ]
  },
  {
   "cell_type": "code",
   "execution_count": null,
   "metadata": {},
   "outputs": [],
   "source": [
    "num_fact(10)"
   ]
  },
  {
   "cell_type": "code",
   "execution_count": null,
   "metadata": {},
   "outputs": [],
   "source": []
  },
  {
   "cell_type": "markdown",
   "metadata": {},
   "source": [
    "## Summary\n",
    "Congratulations, you are now able to program in Python! <br>\n",
    "\n",
    "You should now understand:\n",
    "- How functions work in Python.\n",
    "- The nature of variable scope.\n",
    "- The idea of recursion.\n",
    "<br><br>\n",
    "\n",
    "You should now know:\n",
    "- How to define a function.\n",
    "- How to call a function.\n",
    "- How to use the help() function.\n",
    "- How to use recursive functions.\n",
    "\n",
    "## Further reading\n",
    "- Python Function Definitions: https://docs.python.org/3/reference/compound_stmts.html#function-definitions\n",
    "- Python Docstring Conventions: https://www.python.org/dev/peps/pep-0257/"
   ]
  },
  {
   "cell_type": "code",
   "execution_count": null,
   "metadata": {},
   "outputs": [],
   "source": []
  }
 ],
 "metadata": {
  "interpreter": {
   "hash": "569d6b7e9215e11aba41c6454007e5c1b78bad7df09dab765d8cf00362c40f03"
  },
  "kernelspec": {
   "display_name": "Python 3.9.1 64-bit ('base': conda)",
   "name": "python3"
  },
  "language_info": {
   "name": "python",
   "version": ""
  }
 },
 "nbformat": 4,
 "nbformat_minor": 2
}